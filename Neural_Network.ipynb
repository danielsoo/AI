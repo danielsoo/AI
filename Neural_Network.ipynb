{
  "nbformat": 4,
  "nbformat_minor": 0,
  "metadata": {
    "colab": {
      "provenance": [],
      "authorship_tag": "ABX9TyNtgmkPUZh9F15z3RPSC9f0",
      "include_colab_link": true
    },
    "kernelspec": {
      "name": "python3",
      "display_name": "Python 3"
    },
    "language_info": {
      "name": "python"
    }
  },
  "cells": [
    {
      "cell_type": "markdown",
      "metadata": {
        "id": "view-in-github",
        "colab_type": "text"
      },
      "source": [
        "<a href=\"https://colab.research.google.com/github/danielsoo/AI/blob/main/Neural_Network.ipynb\" target=\"_parent\"><img src=\"https://colab.research.google.com/assets/colab-badge.svg\" alt=\"Open In Colab\"/></a>"
      ]
    },
    {
      "cell_type": "code",
      "execution_count": null,
      "metadata": {
        "id": "K1MfIpo552e1"
      },
      "outputs": [],
      "source": [
        "from torchvision import datasets\n",
        "from torchvision.transforms import ToTensor"
      ]
    },
    {
      "cell_type": "code",
      "source": [
        "train_data = datasets.MNIST(\n",
        "    root = 'data',\n",
        "    train = True,\n",
        "    transform = ToTensor(),\n",
        "    download = True\n",
        ")\n",
        "\n",
        "test_data = datasets.MNIST(\n",
        "    root = 'data',\n",
        "    train = False,\n",
        "    transform = ToTensor(),\n",
        "    download = True\n",
        ")"
      ],
      "metadata": {
        "colab": {
          "base_uri": "https://localhost:8080/"
        },
        "id": "K7rJX9kk6ZYv",
        "outputId": "0000b3b1-8298-467b-fb0c-19f7fb4c95ab"
      },
      "execution_count": null,
      "outputs": [
        {
          "output_type": "stream",
          "name": "stdout",
          "text": [
            "Downloading http://yann.lecun.com/exdb/mnist/train-images-idx3-ubyte.gz\n",
            "Failed to download (trying next):\n",
            "<urlopen error [SSL: CERTIFICATE_VERIFY_FAILED] certificate verify failed: certificate has expired (_ssl.c:1007)>\n",
            "\n",
            "Downloading https://ossci-datasets.s3.amazonaws.com/mnist/train-images-idx3-ubyte.gz\n",
            "Downloading https://ossci-datasets.s3.amazonaws.com/mnist/train-images-idx3-ubyte.gz to data/MNIST/raw/train-images-idx3-ubyte.gz\n"
          ]
        },
        {
          "output_type": "stream",
          "name": "stderr",
          "text": [
            "100%|██████████| 9912422/9912422 [00:00<00:00, 48219712.56it/s]\n"
          ]
        },
        {
          "output_type": "stream",
          "name": "stdout",
          "text": [
            "Extracting data/MNIST/raw/train-images-idx3-ubyte.gz to data/MNIST/raw\n",
            "\n",
            "Downloading http://yann.lecun.com/exdb/mnist/train-labels-idx1-ubyte.gz\n",
            "Failed to download (trying next):\n",
            "<urlopen error [SSL: CERTIFICATE_VERIFY_FAILED] certificate verify failed: certificate has expired (_ssl.c:1007)>\n",
            "\n",
            "Downloading https://ossci-datasets.s3.amazonaws.com/mnist/train-labels-idx1-ubyte.gz\n",
            "Downloading https://ossci-datasets.s3.amazonaws.com/mnist/train-labels-idx1-ubyte.gz to data/MNIST/raw/train-labels-idx1-ubyte.gz\n"
          ]
        },
        {
          "output_type": "stream",
          "name": "stderr",
          "text": [
            "100%|██████████| 28881/28881 [00:00<00:00, 1769747.75it/s]\n"
          ]
        },
        {
          "output_type": "stream",
          "name": "stdout",
          "text": [
            "Extracting data/MNIST/raw/train-labels-idx1-ubyte.gz to data/MNIST/raw\n",
            "\n",
            "Downloading http://yann.lecun.com/exdb/mnist/t10k-images-idx3-ubyte.gz\n",
            "Failed to download (trying next):\n",
            "<urlopen error [SSL: CERTIFICATE_VERIFY_FAILED] certificate verify failed: certificate has expired (_ssl.c:1007)>\n",
            "\n",
            "Downloading https://ossci-datasets.s3.amazonaws.com/mnist/t10k-images-idx3-ubyte.gz\n",
            "Downloading https://ossci-datasets.s3.amazonaws.com/mnist/t10k-images-idx3-ubyte.gz to data/MNIST/raw/t10k-images-idx3-ubyte.gz\n"
          ]
        },
        {
          "output_type": "stream",
          "name": "stderr",
          "text": [
            "100%|██████████| 1648877/1648877 [00:00<00:00, 13811093.77it/s]\n"
          ]
        },
        {
          "output_type": "stream",
          "name": "stdout",
          "text": [
            "Extracting data/MNIST/raw/t10k-images-idx3-ubyte.gz to data/MNIST/raw\n",
            "\n",
            "Downloading http://yann.lecun.com/exdb/mnist/t10k-labels-idx1-ubyte.gz\n",
            "Failed to download (trying next):\n",
            "<urlopen error [SSL: CERTIFICATE_VERIFY_FAILED] certificate verify failed: certificate has expired (_ssl.c:1007)>\n",
            "\n",
            "Downloading https://ossci-datasets.s3.amazonaws.com/mnist/t10k-labels-idx1-ubyte.gz\n",
            "Downloading https://ossci-datasets.s3.amazonaws.com/mnist/t10k-labels-idx1-ubyte.gz to data/MNIST/raw/t10k-labels-idx1-ubyte.gz\n"
          ]
        },
        {
          "output_type": "stream",
          "name": "stderr",
          "text": [
            "100%|██████████| 4542/4542 [00:00<00:00, 4273335.30it/s]"
          ]
        },
        {
          "output_type": "stream",
          "name": "stdout",
          "text": [
            "Extracting data/MNIST/raw/t10k-labels-idx1-ubyte.gz to data/MNIST/raw\n",
            "\n"
          ]
        },
        {
          "output_type": "stream",
          "name": "stderr",
          "text": [
            "\n"
          ]
        }
      ]
    },
    {
      "cell_type": "code",
      "source": [
        "train_data"
      ],
      "metadata": {
        "colab": {
          "base_uri": "https://localhost:8080/"
        },
        "id": "bpeLPWcD68Al",
        "outputId": "f9bf8331-1482-482d-8a0a-c89c5a1de72c"
      },
      "execution_count": null,
      "outputs": [
        {
          "output_type": "execute_result",
          "data": {
            "text/plain": [
              "Dataset MNIST\n",
              "    Number of datapoints: 60000\n",
              "    Root location: data\n",
              "    Split: Train\n",
              "    StandardTransform\n",
              "Transform: ToTensor()"
            ]
          },
          "metadata": {},
          "execution_count": 3
        }
      ]
    },
    {
      "cell_type": "code",
      "source": [
        "test_data"
      ],
      "metadata": {
        "colab": {
          "base_uri": "https://localhost:8080/"
        },
        "id": "YG_x6bfR6-vD",
        "outputId": "9cbb7ff4-4fa1-49ce-cc79-da2ecd8d39b3"
      },
      "execution_count": null,
      "outputs": [
        {
          "output_type": "execute_result",
          "data": {
            "text/plain": [
              "Dataset MNIST\n",
              "    Number of datapoints: 10000\n",
              "    Root location: data\n",
              "    Split: Test\n",
              "    StandardTransform\n",
              "Transform: ToTensor()"
            ]
          },
          "metadata": {},
          "execution_count": 4
        }
      ]
    },
    {
      "cell_type": "code",
      "source": [
        "train_data.data.shape"
      ],
      "metadata": {
        "colab": {
          "base_uri": "https://localhost:8080/"
        },
        "id": "iOileYrN7CYG",
        "outputId": "2df3f4d7-eb17-4760-b5f3-f7157d27f781"
      },
      "execution_count": null,
      "outputs": [
        {
          "output_type": "execute_result",
          "data": {
            "text/plain": [
              "torch.Size([60000, 28, 28])"
            ]
          },
          "metadata": {},
          "execution_count": 9
        }
      ]
    },
    {
      "cell_type": "code",
      "source": [
        "test_data.data.shape"
      ],
      "metadata": {
        "colab": {
          "base_uri": "https://localhost:8080/"
        },
        "id": "1eob1UMT7IkO",
        "outputId": "e57ff440-0bea-41c4-eb78-300f09e21a78"
      },
      "execution_count": null,
      "outputs": [
        {
          "output_type": "execute_result",
          "data": {
            "text/plain": [
              "torch.Size([10000, 28, 28])"
            ]
          },
          "metadata": {},
          "execution_count": 10
        }
      ]
    },
    {
      "cell_type": "code",
      "source": [
        "train_data.targets.size()"
      ],
      "metadata": {
        "colab": {
          "base_uri": "https://localhost:8080/"
        },
        "id": "kyclDg-07R6h",
        "outputId": "1af310c9-b243-46e4-98e7-dd3435ad84a4"
      },
      "execution_count": null,
      "outputs": [
        {
          "output_type": "execute_result",
          "data": {
            "text/plain": [
              "torch.Size([60000])"
            ]
          },
          "metadata": {},
          "execution_count": 12
        }
      ]
    },
    {
      "cell_type": "code",
      "source": [
        "train_data.targets"
      ],
      "metadata": {
        "colab": {
          "base_uri": "https://localhost:8080/"
        },
        "id": "xBC3Z6x47XKA",
        "outputId": "6d1b6e66-c10a-4f77-d5f9-dea10717efbd"
      },
      "execution_count": null,
      "outputs": [
        {
          "output_type": "execute_result",
          "data": {
            "text/plain": [
              "tensor([5, 0, 4,  ..., 5, 6, 8])"
            ]
          },
          "metadata": {},
          "execution_count": 13
        }
      ]
    },
    {
      "cell_type": "code",
      "source": [
        "from torch.utils.data import DataLoader\n",
        "\n",
        "loaders = {\n",
        "    'train': DataLoader(train_data,\n",
        "                        batch_size=100,\n",
        "                        shuffle=True,\n",
        "                        num_workers=1),\n",
        "\n",
        "     'test': DataLoader(test_data,\n",
        "                        batch_size=100,\n",
        "                        shuffle=True,\n",
        "                        num_workers=1),\n",
        "}"
      ],
      "metadata": {
        "id": "CwEcycVg7cZ8"
      },
      "execution_count": null,
      "outputs": []
    },
    {
      "cell_type": "code",
      "source": [
        "loaders"
      ],
      "metadata": {
        "colab": {
          "base_uri": "https://localhost:8080/"
        },
        "id": "7Y_GYp3S8IX3",
        "outputId": "c7dece00-c775-4e90-e55a-1b61ce4883c0"
      },
      "execution_count": null,
      "outputs": [
        {
          "output_type": "execute_result",
          "data": {
            "text/plain": [
              "{'train': <torch.utils.data.dataloader.DataLoader at 0x7bc53e1af610>,\n",
              " 'test': <torch.utils.data.dataloader.DataLoader at 0x7bc53e1af1c0>}"
            ]
          },
          "metadata": {},
          "execution_count": 16
        }
      ]
    },
    {
      "cell_type": "code",
      "source": [
        "import torch.nn as nn\n",
        "import torch.nn.functional as F\n",
        "import torch.optim as optim\n",
        "\n",
        "class CNN(nn.Module):\n",
        "\n",
        "    def __init__(self):\n",
        "        super(CNN, self).__init__()\n",
        "\n",
        "        self.conv1 = nn.Conv2d(1, 10, kernel_size=5)\n",
        "        self.conv2 = nn.Conv2d(10, 20, kernel_size=5)\n",
        "        self.conv2_drop = nn.Dropout2d()\n",
        "        self.fc1 = nn.Linear(320, 50)\n",
        "        self.fc2 = nn.Linear(50, 10)\n",
        "\n",
        "    def forward(self, x):\n",
        "        x = F.relu(F.max_pool2d(self.conv1(x), 2))\n",
        "        x = F.relu(F.max_pool2d(self.conv2_drop(self.conv2(x)), 2))\n",
        "        x = x.view(-1, 320)\n",
        "        x = F.relu(self.fc1(x))\n",
        "        x = F.dropout(x, training=self.training)\n",
        "        x = self.fc2(x)\n",
        "\n",
        "        return F.softmax(x)\n"
      ],
      "metadata": {
        "id": "yREFzSmM8KU6"
      },
      "execution_count": 20,
      "outputs": []
    },
    {
      "cell_type": "code",
      "source": [
        "import torch\n",
        "\n",
        "device = torch.device('cuda' if torch.cuda.is_available() else 'cpu')\n",
        "\n",
        "model = CNN().to(device)\n",
        "\n",
        "optimizer = optim.Adam(model.parameters(), lr=0.001)\n",
        "\n",
        "loss_fn = nn.CrossEntropyLoss()\n",
        "\n",
        "def train(epoch):\n",
        "    model.train()\n",
        "    for batch_idx, (data, target) in enumerate(loaders['train']):\n",
        "        data, target = data.to(device), target.to(device)\n",
        "        optimizer.zero_grad()\n",
        "        output = model(data)\n",
        "        loss = loss_fn(output, target)\n",
        "        loss.backward()\n",
        "        optimizer.step()\n",
        "        if batch_idx % 20 == 0:\n",
        "            print(f'Train Epoch: {epoch} [{batch_idx * len(data)}/{len(loaders[\"train\"].dataset)} ({100. * batch_idx / len(loaders[\"train\"]):.0}%)]\\t{loss.item():.6f}')\n",
        "\n",
        "def test():\n",
        "    model.eval()\n",
        "\n",
        "    test_loss = 0\n",
        "    correct = 0\n",
        "\n",
        "    with torch.no_grad():\n",
        "        for data, target in loaders['test']:\n",
        "            data, target = data.to(device), target.to(device)\n",
        "            output = model(data)\n",
        "            test_loss += loss_fn(output, target).item()\n",
        "            pred = output.argmax(dim=1, keepdim=True)\n",
        "            correct += pred.eq(target.view_as(pred)).sum().item()\n",
        "\n",
        "    test_loss /= len(loaders['test'].dataset)\n",
        "    print(f'\\nTest set: Average loss: {test_loss:.4f}, Accuracy {correct}/{len(loaders[\"test\"].dataset)} ({100. * correct / len(loaders[\"test\"].dataset):.0f}%\\n)')\n"
      ],
      "metadata": {
        "id": "viJTPjJx8R2d"
      },
      "execution_count": 28,
      "outputs": []
    },
    {
      "cell_type": "code",
      "source": [
        "for epoch in range(1, 11):\n",
        "    train(epoch)\n",
        "    test()"
      ],
      "metadata": {
        "colab": {
          "base_uri": "https://localhost:8080/"
        },
        "id": "XJ8diU2NCmDd",
        "outputId": "517c8260-9ed3-454d-fc13-ae22f210fafb"
      },
      "execution_count": 30,
      "outputs": [
        {
          "output_type": "stream",
          "name": "stderr",
          "text": [
            "<ipython-input-20-b188f6dd4502>:24: UserWarning: Implicit dimension choice for softmax has been deprecated. Change the call to include dim=X as an argument.\n",
            "  return F.softmax(x)\n"
          ]
        },
        {
          "output_type": "stream",
          "name": "stdout",
          "text": [
            "Train Epoch: 1 [0/60000 (0e+00%)]\t1.504889\n",
            "Train Epoch: 1 [2000/60000 (3e+00%)]\t1.542143\n",
            "Train Epoch: 1 [4000/60000 (7e+00%)]\t1.539211\n",
            "Train Epoch: 1 [6000/60000 (1e+01%)]\t1.516676\n",
            "Train Epoch: 1 [8000/60000 (1e+01%)]\t1.558732\n",
            "Train Epoch: 1 [10000/60000 (2e+01%)]\t1.528918\n",
            "Train Epoch: 1 [12000/60000 (2e+01%)]\t1.476779\n",
            "Train Epoch: 1 [14000/60000 (2e+01%)]\t1.548865\n",
            "Train Epoch: 1 [16000/60000 (3e+01%)]\t1.552057\n",
            "Train Epoch: 1 [18000/60000 (3e+01%)]\t1.566630\n",
            "Train Epoch: 1 [20000/60000 (3e+01%)]\t1.493372\n",
            "Train Epoch: 1 [22000/60000 (4e+01%)]\t1.549549\n",
            "Train Epoch: 1 [24000/60000 (4e+01%)]\t1.512869\n",
            "Train Epoch: 1 [26000/60000 (4e+01%)]\t1.491620\n",
            "Train Epoch: 1 [28000/60000 (5e+01%)]\t1.487758\n",
            "Train Epoch: 1 [30000/60000 (5e+01%)]\t1.570660\n",
            "Train Epoch: 1 [32000/60000 (5e+01%)]\t1.541993\n",
            "Train Epoch: 1 [34000/60000 (6e+01%)]\t1.495826\n",
            "Train Epoch: 1 [36000/60000 (6e+01%)]\t1.510287\n",
            "Train Epoch: 1 [38000/60000 (6e+01%)]\t1.540332\n",
            "Train Epoch: 1 [40000/60000 (7e+01%)]\t1.550192\n",
            "Train Epoch: 1 [42000/60000 (7e+01%)]\t1.526998\n",
            "Train Epoch: 1 [44000/60000 (7e+01%)]\t1.511944\n",
            "Train Epoch: 1 [46000/60000 (8e+01%)]\t1.540156\n",
            "Train Epoch: 1 [48000/60000 (8e+01%)]\t1.550255\n",
            "Train Epoch: 1 [50000/60000 (8e+01%)]\t1.529935\n",
            "Train Epoch: 1 [52000/60000 (9e+01%)]\t1.513312\n",
            "Train Epoch: 1 [54000/60000 (9e+01%)]\t1.531666\n",
            "Train Epoch: 1 [56000/60000 (9e+01%)]\t1.494036\n",
            "Train Epoch: 1 [58000/60000 (1e+02%)]\t1.511388\n",
            "\n",
            "Test set: Average loss: 0.0148, Accuracy 9765/10000 (98%\n",
            ")\n",
            "Train Epoch: 2 [0/60000 (0e+00%)]\t1.518537\n",
            "Train Epoch: 2 [2000/60000 (3e+00%)]\t1.557886\n",
            "Train Epoch: 2 [4000/60000 (7e+00%)]\t1.523531\n",
            "Train Epoch: 2 [6000/60000 (1e+01%)]\t1.550652\n",
            "Train Epoch: 2 [8000/60000 (1e+01%)]\t1.544629\n",
            "Train Epoch: 2 [10000/60000 (2e+01%)]\t1.543151\n",
            "Train Epoch: 2 [12000/60000 (2e+01%)]\t1.524830\n",
            "Train Epoch: 2 [14000/60000 (2e+01%)]\t1.495224\n",
            "Train Epoch: 2 [16000/60000 (3e+01%)]\t1.503561\n",
            "Train Epoch: 2 [18000/60000 (3e+01%)]\t1.534455\n",
            "Train Epoch: 2 [20000/60000 (3e+01%)]\t1.510893\n",
            "Train Epoch: 2 [22000/60000 (4e+01%)]\t1.559650\n",
            "Train Epoch: 2 [24000/60000 (4e+01%)]\t1.542650\n",
            "Train Epoch: 2 [26000/60000 (4e+01%)]\t1.528764\n",
            "Train Epoch: 2 [28000/60000 (5e+01%)]\t1.493120\n",
            "Train Epoch: 2 [30000/60000 (5e+01%)]\t1.522689\n",
            "Train Epoch: 2 [32000/60000 (5e+01%)]\t1.519945\n",
            "Train Epoch: 2 [34000/60000 (6e+01%)]\t1.513206\n",
            "Train Epoch: 2 [36000/60000 (6e+01%)]\t1.546718\n",
            "Train Epoch: 2 [38000/60000 (6e+01%)]\t1.517698\n",
            "Train Epoch: 2 [40000/60000 (7e+01%)]\t1.506519\n",
            "Train Epoch: 2 [42000/60000 (7e+01%)]\t1.508330\n",
            "Train Epoch: 2 [44000/60000 (7e+01%)]\t1.524979\n",
            "Train Epoch: 2 [46000/60000 (8e+01%)]\t1.536473\n",
            "Train Epoch: 2 [48000/60000 (8e+01%)]\t1.534925\n",
            "Train Epoch: 2 [50000/60000 (8e+01%)]\t1.511983\n",
            "Train Epoch: 2 [52000/60000 (9e+01%)]\t1.520768\n",
            "Train Epoch: 2 [54000/60000 (9e+01%)]\t1.514779\n",
            "Train Epoch: 2 [56000/60000 (9e+01%)]\t1.496701\n",
            "Train Epoch: 2 [58000/60000 (1e+02%)]\t1.492167\n",
            "\n",
            "Test set: Average loss: 0.0149, Accuracy 9745/10000 (97%\n",
            ")\n",
            "Train Epoch: 3 [0/60000 (0e+00%)]\t1.520201\n",
            "Train Epoch: 3 [2000/60000 (3e+00%)]\t1.490647\n",
            "Train Epoch: 3 [4000/60000 (7e+00%)]\t1.548214\n",
            "Train Epoch: 3 [6000/60000 (1e+01%)]\t1.488163\n",
            "Train Epoch: 3 [8000/60000 (1e+01%)]\t1.528080\n",
            "Train Epoch: 3 [10000/60000 (2e+01%)]\t1.567135\n",
            "Train Epoch: 3 [12000/60000 (2e+01%)]\t1.509021\n",
            "Train Epoch: 3 [14000/60000 (2e+01%)]\t1.524541\n",
            "Train Epoch: 3 [16000/60000 (3e+01%)]\t1.531436\n",
            "Train Epoch: 3 [18000/60000 (3e+01%)]\t1.498225\n",
            "Train Epoch: 3 [20000/60000 (3e+01%)]\t1.562447\n",
            "Train Epoch: 3 [22000/60000 (4e+01%)]\t1.496754\n",
            "Train Epoch: 3 [24000/60000 (4e+01%)]\t1.520911\n",
            "Train Epoch: 3 [26000/60000 (4e+01%)]\t1.528864\n",
            "Train Epoch: 3 [28000/60000 (5e+01%)]\t1.485286\n",
            "Train Epoch: 3 [30000/60000 (5e+01%)]\t1.515341\n",
            "Train Epoch: 3 [32000/60000 (5e+01%)]\t1.522711\n",
            "Train Epoch: 3 [34000/60000 (6e+01%)]\t1.523100\n",
            "Train Epoch: 3 [36000/60000 (6e+01%)]\t1.520579\n",
            "Train Epoch: 3 [38000/60000 (6e+01%)]\t1.540347\n",
            "Train Epoch: 3 [40000/60000 (7e+01%)]\t1.516653\n",
            "Train Epoch: 3 [42000/60000 (7e+01%)]\t1.544477\n",
            "Train Epoch: 3 [44000/60000 (7e+01%)]\t1.533127\n",
            "Train Epoch: 3 [46000/60000 (8e+01%)]\t1.502878\n",
            "Train Epoch: 3 [48000/60000 (8e+01%)]\t1.496000\n",
            "Train Epoch: 3 [50000/60000 (8e+01%)]\t1.493118\n",
            "Train Epoch: 3 [52000/60000 (9e+01%)]\t1.531357\n",
            "Train Epoch: 3 [54000/60000 (9e+01%)]\t1.526972\n",
            "Train Epoch: 3 [56000/60000 (9e+01%)]\t1.555280\n",
            "Train Epoch: 3 [58000/60000 (1e+02%)]\t1.588775\n",
            "\n",
            "Test set: Average loss: 0.0148, Accuracy 9771/10000 (98%\n",
            ")\n",
            "Train Epoch: 4 [0/60000 (0e+00%)]\t1.491992\n",
            "Train Epoch: 4 [2000/60000 (3e+00%)]\t1.487426\n",
            "Train Epoch: 4 [4000/60000 (7e+00%)]\t1.485676\n",
            "Train Epoch: 4 [6000/60000 (1e+01%)]\t1.492961\n",
            "Train Epoch: 4 [8000/60000 (1e+01%)]\t1.532529\n",
            "Train Epoch: 4 [10000/60000 (2e+01%)]\t1.520823\n",
            "Train Epoch: 4 [12000/60000 (2e+01%)]\t1.499305\n",
            "Train Epoch: 4 [14000/60000 (2e+01%)]\t1.527712\n",
            "Train Epoch: 4 [16000/60000 (3e+01%)]\t1.524352\n",
            "Train Epoch: 4 [18000/60000 (3e+01%)]\t1.523127\n",
            "Train Epoch: 4 [20000/60000 (3e+01%)]\t1.516457\n",
            "Train Epoch: 4 [22000/60000 (4e+01%)]\t1.492610\n",
            "Train Epoch: 4 [24000/60000 (4e+01%)]\t1.495937\n",
            "Train Epoch: 4 [26000/60000 (4e+01%)]\t1.540963\n",
            "Train Epoch: 4 [28000/60000 (5e+01%)]\t1.511758\n",
            "Train Epoch: 4 [30000/60000 (5e+01%)]\t1.528512\n",
            "Train Epoch: 4 [32000/60000 (5e+01%)]\t1.502233\n",
            "Train Epoch: 4 [34000/60000 (6e+01%)]\t1.555230\n",
            "Train Epoch: 4 [36000/60000 (6e+01%)]\t1.525720\n",
            "Train Epoch: 4 [38000/60000 (6e+01%)]\t1.506409\n",
            "Train Epoch: 4 [40000/60000 (7e+01%)]\t1.523659\n",
            "Train Epoch: 4 [42000/60000 (7e+01%)]\t1.498470\n",
            "Train Epoch: 4 [44000/60000 (7e+01%)]\t1.523918\n",
            "Train Epoch: 4 [46000/60000 (8e+01%)]\t1.510329\n",
            "Train Epoch: 4 [48000/60000 (8e+01%)]\t1.484993\n",
            "Train Epoch: 4 [50000/60000 (8e+01%)]\t1.492459\n",
            "Train Epoch: 4 [52000/60000 (9e+01%)]\t1.500667\n",
            "Train Epoch: 4 [54000/60000 (9e+01%)]\t1.533148\n",
            "Train Epoch: 4 [56000/60000 (9e+01%)]\t1.533617\n",
            "Train Epoch: 4 [58000/60000 (1e+02%)]\t1.498984\n",
            "\n",
            "Test set: Average loss: 0.0148, Accuracy 9775/10000 (98%\n",
            ")\n",
            "Train Epoch: 5 [0/60000 (0e+00%)]\t1.554539\n",
            "Train Epoch: 5 [2000/60000 (3e+00%)]\t1.533310\n",
            "Train Epoch: 5 [4000/60000 (7e+00%)]\t1.511801\n",
            "Train Epoch: 5 [6000/60000 (1e+01%)]\t1.524979\n",
            "Train Epoch: 5 [8000/60000 (1e+01%)]\t1.517839\n",
            "Train Epoch: 5 [10000/60000 (2e+01%)]\t1.552248\n",
            "Train Epoch: 5 [12000/60000 (2e+01%)]\t1.543748\n",
            "Train Epoch: 5 [14000/60000 (2e+01%)]\t1.543907\n",
            "Train Epoch: 5 [16000/60000 (3e+01%)]\t1.515835\n",
            "Train Epoch: 5 [18000/60000 (3e+01%)]\t1.491877\n",
            "Train Epoch: 5 [20000/60000 (3e+01%)]\t1.512950\n",
            "Train Epoch: 5 [22000/60000 (4e+01%)]\t1.501657\n",
            "Train Epoch: 5 [24000/60000 (4e+01%)]\t1.504457\n",
            "Train Epoch: 5 [26000/60000 (4e+01%)]\t1.501369\n",
            "Train Epoch: 5 [28000/60000 (5e+01%)]\t1.517486\n",
            "Train Epoch: 5 [30000/60000 (5e+01%)]\t1.514561\n",
            "Train Epoch: 5 [32000/60000 (5e+01%)]\t1.519943\n",
            "Train Epoch: 5 [34000/60000 (6e+01%)]\t1.528221\n",
            "Train Epoch: 5 [36000/60000 (6e+01%)]\t1.512330\n",
            "Train Epoch: 5 [38000/60000 (6e+01%)]\t1.519316\n",
            "Train Epoch: 5 [40000/60000 (7e+01%)]\t1.519094\n",
            "Train Epoch: 5 [42000/60000 (7e+01%)]\t1.544446\n",
            "Train Epoch: 5 [44000/60000 (7e+01%)]\t1.488988\n",
            "Train Epoch: 5 [46000/60000 (8e+01%)]\t1.519378\n",
            "Train Epoch: 5 [48000/60000 (8e+01%)]\t1.501822\n",
            "Train Epoch: 5 [50000/60000 (8e+01%)]\t1.519428\n",
            "Train Epoch: 5 [52000/60000 (9e+01%)]\t1.493106\n",
            "Train Epoch: 5 [54000/60000 (9e+01%)]\t1.496512\n",
            "Train Epoch: 5 [56000/60000 (9e+01%)]\t1.546017\n",
            "Train Epoch: 5 [58000/60000 (1e+02%)]\t1.508544\n",
            "\n",
            "Test set: Average loss: 0.0148, Accuracy 9785/10000 (98%\n",
            ")\n",
            "Train Epoch: 6 [0/60000 (0e+00%)]\t1.506457\n",
            "Train Epoch: 6 [2000/60000 (3e+00%)]\t1.495215\n",
            "Train Epoch: 6 [4000/60000 (7e+00%)]\t1.522986\n",
            "Train Epoch: 6 [6000/60000 (1e+01%)]\t1.538024\n",
            "Train Epoch: 6 [8000/60000 (1e+01%)]\t1.525326\n",
            "Train Epoch: 6 [10000/60000 (2e+01%)]\t1.499277\n",
            "Train Epoch: 6 [12000/60000 (2e+01%)]\t1.511112\n",
            "Train Epoch: 6 [14000/60000 (2e+01%)]\t1.520419\n",
            "Train Epoch: 6 [16000/60000 (3e+01%)]\t1.482766\n",
            "Train Epoch: 6 [18000/60000 (3e+01%)]\t1.530678\n",
            "Train Epoch: 6 [20000/60000 (3e+01%)]\t1.506494\n",
            "Train Epoch: 6 [22000/60000 (4e+01%)]\t1.536230\n",
            "Train Epoch: 6 [24000/60000 (4e+01%)]\t1.532130\n",
            "Train Epoch: 6 [26000/60000 (4e+01%)]\t1.543879\n",
            "Train Epoch: 6 [28000/60000 (5e+01%)]\t1.502571\n",
            "Train Epoch: 6 [30000/60000 (5e+01%)]\t1.494849\n",
            "Train Epoch: 6 [32000/60000 (5e+01%)]\t1.542044\n",
            "Train Epoch: 6 [34000/60000 (6e+01%)]\t1.524509\n",
            "Train Epoch: 6 [36000/60000 (6e+01%)]\t1.534079\n",
            "Train Epoch: 6 [38000/60000 (6e+01%)]\t1.505692\n",
            "Train Epoch: 6 [40000/60000 (7e+01%)]\t1.518771\n",
            "Train Epoch: 6 [42000/60000 (7e+01%)]\t1.468605\n",
            "Train Epoch: 6 [44000/60000 (7e+01%)]\t1.500504\n",
            "Train Epoch: 6 [46000/60000 (8e+01%)]\t1.511550\n",
            "Train Epoch: 6 [48000/60000 (8e+01%)]\t1.543354\n",
            "Train Epoch: 6 [50000/60000 (8e+01%)]\t1.524069\n",
            "Train Epoch: 6 [52000/60000 (9e+01%)]\t1.522150\n",
            "Train Epoch: 6 [54000/60000 (9e+01%)]\t1.523622\n",
            "Train Epoch: 6 [56000/60000 (9e+01%)]\t1.514187\n",
            "Train Epoch: 6 [58000/60000 (1e+02%)]\t1.542548\n",
            "\n",
            "Test set: Average loss: 0.0148, Accuracy 9777/10000 (98%\n",
            ")\n",
            "Train Epoch: 7 [0/60000 (0e+00%)]\t1.542214\n",
            "Train Epoch: 7 [2000/60000 (3e+00%)]\t1.506288\n",
            "Train Epoch: 7 [4000/60000 (7e+00%)]\t1.501289\n",
            "Train Epoch: 7 [6000/60000 (1e+01%)]\t1.538144\n",
            "Train Epoch: 7 [8000/60000 (1e+01%)]\t1.546118\n",
            "Train Epoch: 7 [10000/60000 (2e+01%)]\t1.542042\n",
            "Train Epoch: 7 [12000/60000 (2e+01%)]\t1.519866\n",
            "Train Epoch: 7 [14000/60000 (2e+01%)]\t1.491584\n",
            "Train Epoch: 7 [16000/60000 (3e+01%)]\t1.489042\n",
            "Train Epoch: 7 [18000/60000 (3e+01%)]\t1.488176\n",
            "Train Epoch: 7 [20000/60000 (3e+01%)]\t1.481265\n",
            "Train Epoch: 7 [22000/60000 (4e+01%)]\t1.530270\n",
            "Train Epoch: 7 [24000/60000 (4e+01%)]\t1.522604\n",
            "Train Epoch: 7 [26000/60000 (4e+01%)]\t1.514731\n",
            "Train Epoch: 7 [28000/60000 (5e+01%)]\t1.514407\n",
            "Train Epoch: 7 [30000/60000 (5e+01%)]\t1.515635\n",
            "Train Epoch: 7 [32000/60000 (5e+01%)]\t1.555506\n",
            "Train Epoch: 7 [34000/60000 (6e+01%)]\t1.519748\n",
            "Train Epoch: 7 [36000/60000 (6e+01%)]\t1.534025\n",
            "Train Epoch: 7 [38000/60000 (6e+01%)]\t1.508444\n",
            "Train Epoch: 7 [40000/60000 (7e+01%)]\t1.503636\n",
            "Train Epoch: 7 [42000/60000 (7e+01%)]\t1.477038\n",
            "Train Epoch: 7 [44000/60000 (7e+01%)]\t1.514359\n",
            "Train Epoch: 7 [46000/60000 (8e+01%)]\t1.507754\n",
            "Train Epoch: 7 [48000/60000 (8e+01%)]\t1.506143\n",
            "Train Epoch: 7 [50000/60000 (8e+01%)]\t1.518012\n",
            "Train Epoch: 7 [52000/60000 (9e+01%)]\t1.499900\n",
            "Train Epoch: 7 [54000/60000 (9e+01%)]\t1.495105\n",
            "Train Epoch: 7 [56000/60000 (9e+01%)]\t1.553377\n",
            "Train Epoch: 7 [58000/60000 (1e+02%)]\t1.503926\n",
            "\n",
            "Test set: Average loss: 0.0148, Accuracy 9790/10000 (98%\n",
            ")\n",
            "Train Epoch: 8 [0/60000 (0e+00%)]\t1.510728\n",
            "Train Epoch: 8 [2000/60000 (3e+00%)]\t1.532124\n",
            "Train Epoch: 8 [4000/60000 (7e+00%)]\t1.509082\n",
            "Train Epoch: 8 [6000/60000 (1e+01%)]\t1.500803\n",
            "Train Epoch: 8 [8000/60000 (1e+01%)]\t1.492661\n",
            "Train Epoch: 8 [10000/60000 (2e+01%)]\t1.497851\n",
            "Train Epoch: 8 [12000/60000 (2e+01%)]\t1.515836\n",
            "Train Epoch: 8 [14000/60000 (2e+01%)]\t1.523991\n",
            "Train Epoch: 8 [16000/60000 (3e+01%)]\t1.489676\n",
            "Train Epoch: 8 [18000/60000 (3e+01%)]\t1.548655\n",
            "Train Epoch: 8 [20000/60000 (3e+01%)]\t1.541465\n",
            "Train Epoch: 8 [22000/60000 (4e+01%)]\t1.499468\n",
            "Train Epoch: 8 [24000/60000 (4e+01%)]\t1.535165\n",
            "Train Epoch: 8 [26000/60000 (4e+01%)]\t1.533701\n",
            "Train Epoch: 8 [28000/60000 (5e+01%)]\t1.524092\n",
            "Train Epoch: 8 [30000/60000 (5e+01%)]\t1.545776\n",
            "Train Epoch: 8 [32000/60000 (5e+01%)]\t1.508719\n",
            "Train Epoch: 8 [34000/60000 (6e+01%)]\t1.511904\n",
            "Train Epoch: 8 [36000/60000 (6e+01%)]\t1.509894\n",
            "Train Epoch: 8 [38000/60000 (6e+01%)]\t1.524665\n",
            "Train Epoch: 8 [40000/60000 (7e+01%)]\t1.524977\n",
            "Train Epoch: 8 [42000/60000 (7e+01%)]\t1.477418\n",
            "Train Epoch: 8 [44000/60000 (7e+01%)]\t1.524315\n",
            "Train Epoch: 8 [46000/60000 (8e+01%)]\t1.472376\n",
            "Train Epoch: 8 [48000/60000 (8e+01%)]\t1.506147\n",
            "Train Epoch: 8 [50000/60000 (8e+01%)]\t1.520204\n",
            "Train Epoch: 8 [52000/60000 (9e+01%)]\t1.515116\n",
            "Train Epoch: 8 [54000/60000 (9e+01%)]\t1.541450\n",
            "Train Epoch: 8 [56000/60000 (9e+01%)]\t1.495155\n",
            "Train Epoch: 8 [58000/60000 (1e+02%)]\t1.510361\n",
            "\n",
            "Test set: Average loss: 0.0148, Accuracy 9795/10000 (98%\n",
            ")\n",
            "Train Epoch: 9 [0/60000 (0e+00%)]\t1.513266\n",
            "Train Epoch: 9 [2000/60000 (3e+00%)]\t1.504758\n",
            "Train Epoch: 9 [4000/60000 (7e+00%)]\t1.553118\n",
            "Train Epoch: 9 [6000/60000 (1e+01%)]\t1.511316\n",
            "Train Epoch: 9 [8000/60000 (1e+01%)]\t1.513639\n",
            "Train Epoch: 9 [10000/60000 (2e+01%)]\t1.511370\n",
            "Train Epoch: 9 [12000/60000 (2e+01%)]\t1.526148\n",
            "Train Epoch: 9 [14000/60000 (2e+01%)]\t1.570403\n",
            "Train Epoch: 9 [16000/60000 (3e+01%)]\t1.540942\n",
            "Train Epoch: 9 [18000/60000 (3e+01%)]\t1.500165\n",
            "Train Epoch: 9 [20000/60000 (3e+01%)]\t1.542374\n",
            "Train Epoch: 9 [22000/60000 (4e+01%)]\t1.530090\n",
            "Train Epoch: 9 [24000/60000 (4e+01%)]\t1.546577\n",
            "Train Epoch: 9 [26000/60000 (4e+01%)]\t1.551867\n",
            "Train Epoch: 9 [28000/60000 (5e+01%)]\t1.534566\n",
            "Train Epoch: 9 [30000/60000 (5e+01%)]\t1.528469\n",
            "Train Epoch: 9 [32000/60000 (5e+01%)]\t1.513523\n",
            "Train Epoch: 9 [34000/60000 (6e+01%)]\t1.504676\n",
            "Train Epoch: 9 [36000/60000 (6e+01%)]\t1.494894\n",
            "Train Epoch: 9 [38000/60000 (6e+01%)]\t1.500597\n",
            "Train Epoch: 9 [40000/60000 (7e+01%)]\t1.511200\n",
            "Train Epoch: 9 [42000/60000 (7e+01%)]\t1.493683\n",
            "Train Epoch: 9 [44000/60000 (7e+01%)]\t1.515012\n",
            "Train Epoch: 9 [46000/60000 (8e+01%)]\t1.503598\n",
            "Train Epoch: 9 [48000/60000 (8e+01%)]\t1.502760\n",
            "Train Epoch: 9 [50000/60000 (8e+01%)]\t1.491327\n",
            "Train Epoch: 9 [52000/60000 (9e+01%)]\t1.498091\n",
            "Train Epoch: 9 [54000/60000 (9e+01%)]\t1.534483\n",
            "Train Epoch: 9 [56000/60000 (9e+01%)]\t1.503516\n",
            "Train Epoch: 9 [58000/60000 (1e+02%)]\t1.512035\n",
            "\n",
            "Test set: Average loss: 0.0148, Accuracy 9808/10000 (98%\n",
            ")\n",
            "Train Epoch: 10 [0/60000 (0e+00%)]\t1.537799\n",
            "Train Epoch: 10 [2000/60000 (3e+00%)]\t1.512625\n",
            "Train Epoch: 10 [4000/60000 (7e+00%)]\t1.520124\n",
            "Train Epoch: 10 [6000/60000 (1e+01%)]\t1.519041\n",
            "Train Epoch: 10 [8000/60000 (1e+01%)]\t1.469632\n",
            "Train Epoch: 10 [10000/60000 (2e+01%)]\t1.484840\n",
            "Train Epoch: 10 [12000/60000 (2e+01%)]\t1.533894\n",
            "Train Epoch: 10 [14000/60000 (2e+01%)]\t1.519421\n",
            "Train Epoch: 10 [16000/60000 (3e+01%)]\t1.500756\n",
            "Train Epoch: 10 [18000/60000 (3e+01%)]\t1.490993\n",
            "Train Epoch: 10 [20000/60000 (3e+01%)]\t1.510696\n",
            "Train Epoch: 10 [22000/60000 (4e+01%)]\t1.527850\n",
            "Train Epoch: 10 [24000/60000 (4e+01%)]\t1.510843\n",
            "Train Epoch: 10 [26000/60000 (4e+01%)]\t1.537505\n",
            "Train Epoch: 10 [28000/60000 (5e+01%)]\t1.502323\n",
            "Train Epoch: 10 [30000/60000 (5e+01%)]\t1.546548\n",
            "Train Epoch: 10 [32000/60000 (5e+01%)]\t1.501399\n",
            "Train Epoch: 10 [34000/60000 (6e+01%)]\t1.516154\n",
            "Train Epoch: 10 [36000/60000 (6e+01%)]\t1.504542\n",
            "Train Epoch: 10 [38000/60000 (6e+01%)]\t1.526632\n",
            "Train Epoch: 10 [40000/60000 (7e+01%)]\t1.512574\n",
            "Train Epoch: 10 [42000/60000 (7e+01%)]\t1.548348\n",
            "Train Epoch: 10 [44000/60000 (7e+01%)]\t1.521240\n",
            "Train Epoch: 10 [46000/60000 (8e+01%)]\t1.518362\n",
            "Train Epoch: 10 [48000/60000 (8e+01%)]\t1.514787\n",
            "Train Epoch: 10 [50000/60000 (8e+01%)]\t1.536935\n",
            "Train Epoch: 10 [52000/60000 (9e+01%)]\t1.513904\n",
            "Train Epoch: 10 [54000/60000 (9e+01%)]\t1.495814\n",
            "Train Epoch: 10 [56000/60000 (9e+01%)]\t1.544249\n",
            "Train Epoch: 10 [58000/60000 (1e+02%)]\t1.470677\n",
            "\n",
            "Test set: Average loss: 0.0148, Accuracy 9810/10000 (98%\n",
            ")\n"
          ]
        }
      ]
    },
    {
      "cell_type": "code",
      "source": [
        "device"
      ],
      "metadata": {
        "colab": {
          "base_uri": "https://localhost:8080/"
        },
        "id": "mP4xNAYMEnm_",
        "outputId": "937370e3-7190-4302-bc14-42a979863560"
      },
      "execution_count": 31,
      "outputs": [
        {
          "output_type": "execute_result",
          "data": {
            "text/plain": [
              "device(type='cpu')"
            ]
          },
          "metadata": {},
          "execution_count": 31
        }
      ]
    },
    {
      "cell_type": "code",
      "source": [
        "import matplotlib.pyplot as plt\n",
        "\n",
        "model.eval()\n",
        "\n",
        "data, target = test_data[0]\n",
        "\n",
        "data = data.unsqueeze(0).to(device)\n",
        "\n",
        "output = model(data)\n",
        "\n",
        "prediction = output.argmax(dim=1, keepdim=True).item()\n",
        "\n",
        "print(f'Prediction: {prediction}')\n",
        "\n",
        "image = data.squeeze(0).squeeze(0).cpu().numpy()\n",
        "\n",
        "plt.imshow(image, cmap='gray')\n",
        "plt.show()"
      ],
      "metadata": {
        "colab": {
          "base_uri": "https://localhost:8080/",
          "height": 482
        },
        "id": "erSy8qW4EzSf",
        "outputId": "48a1078f-2db1-4ee8-80d2-852c420d7389"
      },
      "execution_count": 35,
      "outputs": [
        {
          "output_type": "stream",
          "name": "stderr",
          "text": [
            "<ipython-input-20-b188f6dd4502>:24: UserWarning: Implicit dimension choice for softmax has been deprecated. Change the call to include dim=X as an argument.\n",
            "  return F.softmax(x)\n"
          ]
        },
        {
          "output_type": "stream",
          "name": "stdout",
          "text": [
            "Prediction: 7\n"
          ]
        },
        {
          "output_type": "display_data",
          "data": {
            "text/plain": [
              "<Figure size 640x480 with 1 Axes>"
            ],
            "image/png": "[encoded data removed]"
          },
          "metadata": {}
        }
      ]
    }
  ]
}